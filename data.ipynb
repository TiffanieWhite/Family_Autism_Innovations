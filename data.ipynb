{
 "cells": [
  {
   "cell_type": "markdown",
   "id": "4d27475c",
   "metadata": {},
   "source": [
    "1.https://www.disabilityscoop.com/2021/10/28/study-families-of-children-with-special-needs-see-18k-in-lost-income-annually/29569/\n",
    "\n",
    "2.https://datasetsearch.research.google.com/search?src=0&query=family%20financial%20impact%20of%20autism&docid=L2cvMTF4ZmI2czJ3Zg%3D%3D\n",
    "\n",
    "3. https://pmc.ncbi.nlm.nih.gov/articles/PMC4384426/\n",
    "\n",
    "4. https://scholar.google.com/scholar_lookup?journal=Journal%20of%20Family%20and%20Economic%20Issues&title=Financial%20issues%20associated%20with%20having%20a%20child%20with%20autism&author=DL%20Sharpe&author=DL%20Baker&volume=28&publication_year=2007&pages=247-264&\n",
    "\n",
    "5.https://publications.aap.org/pediatrics/article-abstract/124/Supplement_4/S392/29795/Understanding-Factors-Associated-With-Work-Loss?redirectedFrom=fulltext\n",
    "\n",
    "5. "
   ]
  },
  {
   "cell_type": "markdown",
   "id": "7fc7fa35",
   "metadata": {},
   "source": [
    "I am currently having trouble finding the exact data sets that I need. I am trying to show the financial struggle aspect of families with children autism. I want to eventually build up it to create an app to help parents from a financial aspect as far as food and scheduling appts and also in the app include things that will help them more and be able to show a dr more information about things that go on inbetween the 15-30 min dr appt every few moments. Also the app and data visualization will help the parents see patterns in things from finances, eating habits, and behaviors because sometime when you are in the storm of autism daily you can't really freflowingly think because you're preparing for the next storm but having something visual with help you to prepare and help all around."
   ]
  }
 ],
 "metadata": {
  "language_info": {
   "name": "python"
  }
 },
 "nbformat": 4,
 "nbformat_minor": 5
}
